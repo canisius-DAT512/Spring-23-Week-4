{
 "cells": [
  {
   "cell_type": "markdown",
   "id": "ba614e11",
   "metadata": {},
   "source": [
    "# API and Open Data\n",
    "---\n",
    "DAT 512 Canisuis College <br>\n",
    "Professor Paul Lambson<br>\n",
    "<br>\n",
    "### Learning Objectives\n",
    "- Understand general API concepts\n",
    "- Become aware of RESTful methods\n",
    "- Gain confidence in Requests library\n",
    "- Practice acquiring real-world data\n",
    "<br>\n",
    "\n",
    "\n",
    "### Sections\n",
    "- [Python Wrapper or RESTful](#python_wrapper_or_restful)\n",
    "- [Methods](#methods)\n",
    "- [Requests Library](#requests_library)\n",
    "- [Buffalo Open Data](buffalo_open_data)"
   ]
  },
  {
   "cell_type": "markdown",
   "id": "f03130f6",
   "metadata": {},
   "source": [
    "<a id='python_wrapper_or_restful'></a>\n",
    "# Python Wrapper or RESTful\n",
    "Many data provides offer a library of methods or functions that wrap the API in python (or other languages), this is often called a \"Client\" or \"Wrapper\". These wrapper handle many repetative tasks, like authentication or pagnination that can be complicated to handle directly with the API. The Public Cloud providers (GCP, AWS, Azure, etc.) offer very will documented and optimized libraries [Google Cloud Python Client](https://github.com/googleapis/google-api-python-client).\n",
    "\n",
    "Maintaining a multi-language library that acts as middle-ware to APIs is a labor intensive undertaking, while the big tech giants have the resources to keep these up-to-date many time these library fall behind or may not be performative. In many other cases the API that needs to be accessed might not have a python client and is only available using HTTP methods.\n",
    "\n",
    "The most common implimentation of HTTP methods are RESTful APIs. RESTful APIs are enhanced HTTP methods that has base usablity across methods and implimentation. Caching, throttling and secruity are built-in to these methods. Depending on the design of an API those features will have differing importance.\n",
    "\n",
    "The obvious question, which way should be used to access API data? The answer- it depends. It depends what methods are available? How performative is the client? How stable are the APIs or clients?"
   ]
  },
  {
   "cell_type": "markdown",
   "id": "421cada1",
   "metadata": {},
   "source": [
    "<a id='methods'></a>\n",
    "# Methods\n",
    "When accessing API endpoints directly, there are 4 main methods. These methods are generally applicable to software developement and might looks like a CRUD applications.\n",
    "<br>\n",
    "\n",
    "|Method|Description|\n",
    "|:---|:---|\n",
    "|GET|This method helps in offering read-only access for the resources.|\n",
    "|POST|This method is implemented for creating a new resource.|\n",
    "|DELETE|This method is implemented for removing a resource.|\n",
    "|PUT|This method is implemented for updating an existing resource or creating a fresh one.|\n",
    "\n",
    "In the workflow of sourcing data on the web, **GET** and **POST** are the most likely *read-only* methods used.\n",
    "\n",
    "### Requests and Parameters\n",
    "The power of an API allows passing of information to give context to a request. That can be for authorization but in the data engineering workflow it is mostly for querying data.\n",
    "\n",
    "**Endpoint** : The URI where a request is sent<br>\n",
    "**Paramters**: Context to pass with the request that is required or optional information<br>\n",
    "**Headers**: A dictionary-like structure that is passed in requests and responses that holds meta data about the exchange<br>\n",
    "**Data**: Also called \"message\" or \"body\", holds the information of the exchange\n",
    "\n",
    "\n",
    "The main two methods **GET** and **POST** place the paramters in differnt parts of the request.\n",
    "\n",
    "A **GET** request places the paramters at the end of the URI <br>\n",
    "`https://httpbin.org/get?key1=value1&key2=value2`<br>\n",
    "Note that all the necessary information is in the URI.\n",
    "\n",
    "A **POST** request places the parameters into the header or data (message, body) of the request<br>\n",
    "`curl -d \"key1=value1&key2=value2\" -X POST https://httpbin.org/post`\n",
    "\n",
    "\n",
    "### Response Objects\n",
    "The response object contain similar information to the request, but is created by the server and is an answer to the request that was made.\n",
    "\n",
    "**Status Code**: A code that indicates the resolution of the request, `200` is the accepted code, other numeric codes represent other resolutions\n",
    "\n",
    "Once the response is successfully recieved then the data can be accessed and processed."
   ]
  },
  {
   "cell_type": "markdown",
   "id": "13b9bd1e",
   "metadata": {},
   "source": [
    "<a id='requests_library'></a>\n",
    "# Requests Library\n",
    "---\n",
    "**Requests** is a simple, yet elegant, HTTP library [docs](https://pypi.org/project/requests/).\n",
    "\n",
    "Using requests can simplify the request and response objects. Moving from **GET** to **POST** methods become seamless\n",
    "#### GET Request\n",
    "```\n",
    "import requests\n",
    "uri = 'https://httpbin.org/get'\n",
    "payload = {'key1': 'value1', 'key2': 'value2'}\n",
    "r = requests.get(uri, params=payload)\n",
    "```\n",
    "#### POST Request\n",
    "```\n",
    "import requests\n",
    "uri = 'https://httpbin.org/get'\n",
    "payload = {'key1': 'value1', 'key2': 'value2'}\n",
    "r = requests.get(uri, data=payload)\n",
    "```\n",
    "\n",
    "Once a request is made then parts of the request can be evaluated. A few examples:\n",
    "```\n",
    "r.url\n",
    "r.status_code\n",
    "r.text\n",
    "t.json()\n",
    "```"
   ]
  },
  {
   "cell_type": "code",
   "execution_count": null,
   "id": "638c87cb",
   "metadata": {},
   "outputs": [],
   "source": [
    "import requests\n",
    "import pandas as pd"
   ]
  },
  {
   "cell_type": "code",
   "execution_count": null,
   "id": "a5434f0e",
   "metadata": {},
   "outputs": [],
   "source": [
    "# Make a simple get request\n",
    "payload = {'key1': 'value1', 'key2': 'value2'}\n",
    "r = requests.get('https://httpbin.org/get', params=payload)"
   ]
  },
  {
   "cell_type": "code",
   "execution_count": null,
   "id": "868523b1",
   "metadata": {},
   "outputs": [],
   "source": [
    "r.url"
   ]
  },
  {
   "cell_type": "code",
   "execution_count": null,
   "id": "c890ab46",
   "metadata": {},
   "outputs": [],
   "source": [
    "r.status_code"
   ]
  },
  {
   "cell_type": "code",
   "execution_count": null,
   "id": "63155907",
   "metadata": {},
   "outputs": [],
   "source": [
    "r.text"
   ]
  },
  {
   "cell_type": "code",
   "execution_count": null,
   "id": "924d1d3c",
   "metadata": {},
   "outputs": [],
   "source": [
    "r.json()"
   ]
  },
  {
   "cell_type": "code",
   "execution_count": null,
   "id": "6c559c0d",
   "metadata": {},
   "outputs": [],
   "source": [
    "# Make a simple POST request\n",
    "r = requests.post('https://httpbin.org/post', data=payload)"
   ]
  },
  {
   "cell_type": "code",
   "execution_count": null,
   "id": "33fd171e",
   "metadata": {},
   "outputs": [],
   "source": [
    "r.url"
   ]
  },
  {
   "cell_type": "code",
   "execution_count": null,
   "id": "6ec3421f",
   "metadata": {},
   "outputs": [],
   "source": [
    "r.status_code"
   ]
  },
  {
   "cell_type": "code",
   "execution_count": null,
   "id": "78e9c38b",
   "metadata": {},
   "outputs": [],
   "source": [
    "r.text"
   ]
  },
  {
   "cell_type": "code",
   "execution_count": null,
   "id": "aa3b23b2",
   "metadata": {},
   "outputs": [],
   "source": [
    "r.json()"
   ]
  },
  {
   "cell_type": "markdown",
   "id": "45c68468",
   "metadata": {},
   "source": [
    "<a id='buffalo_open_data'></a>\n",
    "# Buffalo Open Data\n",
    "Now let's take a look at some open data rerouces. [Buffalo Open Data](https://data.buffalony.gov/) is a wildly valuable resource for collecting data from the city of Buffalo.\n",
    "\n",
    "Diving into the [Crime Dataset](https://data.buffalony.gov/Public-Safety/Crime-Incidents/d6g9-xbgu)\n",
    "\n",
    "Documentation on the API exists and are somewhat straight forward [SoQL Queries](https://dev.socrata.com/docs/queries/)"
   ]
  },
  {
   "cell_type": "code",
   "execution_count": null,
   "id": "312f7e8e",
   "metadata": {},
   "outputs": [],
   "source": [
    "uri = 'https://data.buffalony.gov/resource/d6g9-xbgu.json'\n",
    "r = requests.get(uri)\n",
    "print('Status code ',r.status_code)\n",
    "print('Number of rows returned ',len(r.json()))\n",
    "print('Endoced URI with params ',r.url)"
   ]
  },
  {
   "cell_type": "code",
   "execution_count": null,
   "id": "1a331c88",
   "metadata": {},
   "outputs": [],
   "source": [
    "df=pd.DataFrame(r.json())\n",
    "print(df.shape)\n",
    "df.head()"
   ]
  },
  {
   "cell_type": "code",
   "execution_count": null,
   "id": "e88b9b12",
   "metadata": {},
   "outputs": [],
   "source": [
    "# layer in parameters that work as a query\n",
    "# this layout is specific to the SODA APIs\n",
    "\n",
    "params_dict = {\n",
    "    '$where':'date_extract_y(incident_datetime)>2022',\n",
    "    '$limit':50000\n",
    "}\n",
    "\n",
    "uri = 'https://data.buffalony.gov/resource/d6g9-xbgu.json'\n",
    "\n",
    "r =requests.get(uri,params=params_dict)\n",
    "print('Status code:',r.status_code)\n",
    "print('Number of rows returned:',len(r.json()))\n",
    "print('Endoced URI with params:',r.url)"
   ]
  },
  {
   "cell_type": "code",
   "execution_count": null,
   "id": "79fe03bf",
   "metadata": {},
   "outputs": [],
   "source": [
    "df=pd.DataFrame(r.json())\n",
    "print(df.shape)\n",
    "df.head()"
   ]
  },
  {
   "cell_type": "markdown",
   "id": "0cc83365",
   "metadata": {},
   "source": [
    "# In Class Problems"
   ]
  },
  {
   "cell_type": "markdown",
   "id": "75c7ceb8",
   "metadata": {},
   "source": [
    "#### 0- Using 2022 Crime Data, Review Data Import\n",
    "- What are the rows and columns\n",
    "- Did all the data get imported\n",
    "- Do data types make sense (change types that need to be\n",
    "- Can any new columns be made from the existing columns (date parts)"
   ]
  },
  {
   "cell_type": "code",
   "execution_count": null,
   "id": "f4a9980b",
   "metadata": {},
   "outputs": [],
   "source": []
  },
  {
   "cell_type": "markdown",
   "id": "867e936e",
   "metadata": {},
   "source": [
    "#### 1- Perform Exploratory Data Analysis\n",
    "- Look at disribution of categorical variables\n",
    "- Evaluate numeric variables by summarizing them\n",
    "- Look for covariance or correlation"
   ]
  },
  {
   "cell_type": "code",
   "execution_count": null,
   "id": "4b2fb4a6",
   "metadata": {},
   "outputs": [],
   "source": []
  },
  {
   "cell_type": "markdown",
   "id": "ab981ee7",
   "metadata": {},
   "source": [
    "#### 2- Shut it down\n",
    "- Save the data frame to a file in a directory called 'data'\n",
    "- Save the JSON data from the original API request in the same directory"
   ]
  },
  {
   "cell_type": "code",
   "execution_count": null,
   "id": "988251e9",
   "metadata": {},
   "outputs": [],
   "source": []
  }
 ],
 "metadata": {
  "kernelspec": {
   "display_name": "Python 3 (ipykernel)",
   "language": "python",
   "name": "python3"
  },
  "language_info": {
   "codemirror_mode": {
    "name": "ipython",
    "version": 3
   },
   "file_extension": ".py",
   "mimetype": "text/x-python",
   "name": "python",
   "nbconvert_exporter": "python",
   "pygments_lexer": "ipython3",
   "version": "3.9.12"
  }
 },
 "nbformat": 4,
 "nbformat_minor": 5
}
